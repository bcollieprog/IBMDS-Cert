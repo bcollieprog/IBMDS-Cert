{
  "metadata": {
    "language_info": {
      "codemirror_mode": {
        "name": "python",
        "version": 3
      },
      "file_extension": ".py",
      "mimetype": "text/x-python",
      "name": "python",
      "nbconvert_exporter": "python",
      "pygments_lexer": "ipython3",
      "version": "3.8"
    },
    "kernelspec": {
      "name": "python",
      "display_name": "Python (Pyodide)",
      "language": "python"
    }
  },
  "nbformat_minor": 4,
  "nbformat": 4,
  "cells": [
    {
      "cell_type": "markdown",
      "source": " # Data Science Tools and Ecosystem",
      "metadata": {}
    },
    {
      "cell_type": "markdown",
      "source": "In this notebook, Data Science Tools and Ecosystem are summarized.",
      "metadata": {}
    },
    {
      "cell_type": "markdown",
      "source": "Some of the popular languages that Data Scientists use are:\n1. **Python**\n2. **R**\n3. **SQL**\n",
      "metadata": {}
    },
    {
      "cell_type": "markdown",
      "source": "<br>",
      "metadata": {}
    },
    {
      "cell_type": "markdown",
      "source": "Some of the commonly used libraries used by Data Scientists include:\n1. **Pandas**\n2. **Ggplot**\n3. **Numpy**",
      "metadata": {}
    },
    {
      "cell_type": "markdown",
      "source": "<br>",
      "metadata": {}
    },
    {
      "cell_type": "markdown",
      "source": "**Data Science Tools**\n\n|Tools|\n|:---|\n|VSCode|\n|Anaconda|\n|Pycharm|\n",
      "metadata": {}
    },
    {
      "cell_type": "code",
      "source": "%%html\n<style>\ntable {float:left}\n</style>",
      "metadata": {
        "jupyter": {
          "source_hidden": true
        },
        "tags": [],
        "trusted": true
      },
      "execution_count": 3,
      "outputs": [
        {
          "output_type": "display_data",
          "data": {
            "text/plain": "<IPython.core.display.HTML object>",
            "text/html": "<style>\ntable {float:left}\n</style>\n"
          },
          "metadata": {}
        }
      ]
    },
    {
      "cell_type": "markdown",
      "source": "### Below are a few examples of evaluating arithmetic expressions in Python:\n\n This a simple arithmetic expression to mutiply then add integers",
      "metadata": {}
    },
    {
      "cell_type": "code",
      "source": "(3*4)+5",
      "metadata": {
        "trusted": true
      },
      "execution_count": 4,
      "outputs": [
        {
          "execution_count": 4,
          "output_type": "execute_result",
          "data": {
            "text/plain": "17"
          },
          "metadata": {}
        }
      ]
    },
    {
      "cell_type": "markdown",
      "source": "<br>",
      "metadata": {}
    },
    {
      "cell_type": "markdown",
      "source": "This will convert 200 minutes to hours by diving by 60",
      "metadata": {}
    },
    {
      "cell_type": "code",
      "source": "200/60",
      "metadata": {
        "trusted": true
      },
      "execution_count": 5,
      "outputs": [
        {
          "execution_count": 5,
          "output_type": "execute_result",
          "data": {
            "text/plain": "3.3333333333333335"
          },
          "metadata": {}
        }
      ]
    },
    {
      "cell_type": "markdown",
      "source": "<br>",
      "metadata": {}
    },
    {
      "cell_type": "markdown",
      "source": "**Objectives**\n* List Popular Languages Used in Data Science\n* List Commononly Used Libraries\n* List Data Science Tools\n* Display Python Arithmetic Usage",
      "metadata": {}
    },
    {
      "cell_type": "markdown",
      "source": "<br>",
      "metadata": {}
    },
    {
      "cell_type": "markdown",
      "source": "## Author\nBailey Collie",
      "metadata": {}
    },
    {
      "cell_type": "code",
      "source": "",
      "metadata": {},
      "execution_count": null,
      "outputs": []
    }
  ]
}